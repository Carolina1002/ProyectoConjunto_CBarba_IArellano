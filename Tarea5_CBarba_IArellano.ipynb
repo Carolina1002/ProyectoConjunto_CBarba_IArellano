{
 "cells": [
  {
   "cell_type": "markdown",
   "id": "f67df265",
   "metadata": {},
   "source": [
    "<img style=\"float: left; margin: 30px 15px 15px 15px;\" src=\"https://pngimage.net/wp-content/uploads/2018/06/logo-iteso-png-5.png\" width=\"300\" height=\"500\" /> \n",
    "    \n",
    "    \n",
    "### <font color='navy'> Simulación de procesos financieros. \n",
    "\n",
    "**Nombres:** Carolina Barba Anaya e Iván Andrés Arellano Ruelas.\n",
    "\n",
    "**Fecha:** 12 de Octubre del 2021.\n",
    "\n",
    "**Expediente** : if720071 y im714383.\n",
    "**Profesor:** Oscar David Jaramillo Zuluaga.\n",
    "    \n",
    "**Link Github**: https://github.com/Carolina1002/ProyectoConjunto_CBarba_IArellano.git\n",
    "\n",
    "# Tarea 5: Clase 10"
   ]
  },
  {
   "cell_type": "code",
   "execution_count": null,
   "id": "fbbfa9c9",
   "metadata": {},
   "outputs": [],
   "source": []
  }
 ],
 "metadata": {
  "kernelspec": {
   "display_name": "Python 3",
   "language": "python",
   "name": "python3"
  },
  "language_info": {
   "codemirror_mode": {
    "name": "ipython",
    "version": 3
   },
   "file_extension": ".py",
   "mimetype": "text/x-python",
   "name": "python",
   "nbconvert_exporter": "python",
   "pygments_lexer": "ipython3",
   "version": "3.8.8"
  }
 },
 "nbformat": 4,
 "nbformat_minor": 5
}
